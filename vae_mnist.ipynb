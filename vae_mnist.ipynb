{
  "cells": [
    {
      "cell_type": "markdown",
      "metadata": {},
      "source": [
        "Creating FashionMNIST Images using Variational Autoencoder (VAE)"
      ]
    },
    {
      "cell_type": "code",
      "execution_count": 1,
      "metadata": {
        "colab": {
          "base_uri": "https://localhost:8080/"
        },
        "id": "KVqmSBcl_l72",
        "outputId": "f310adbd-0f99-4d1f-cf64-438f63739a41"
      },
      "outputs": [
        {
          "name": "stdout",
          "output_type": "stream",
          "text": [
            "Downloading http://fashion-mnist.s3-website.eu-central-1.amazonaws.com/train-images-idx3-ubyte.gz\n",
            "Downloading http://fashion-mnist.s3-website.eu-central-1.amazonaws.com/train-images-idx3-ubyte.gz to data/FashionMNIST/raw/train-images-idx3-ubyte.gz\n"
          ]
        },
        {
          "name": "stderr",
          "output_type": "stream",
          "text": [
            "100%|██████████| 26421880/26421880 [00:02<00:00, 11336555.82it/s]\n"
          ]
        },
        {
          "name": "stdout",
          "output_type": "stream",
          "text": [
            "Extracting data/FashionMNIST/raw/train-images-idx3-ubyte.gz to data/FashionMNIST/raw\n",
            "\n",
            "Downloading http://fashion-mnist.s3-website.eu-central-1.amazonaws.com/train-labels-idx1-ubyte.gz\n",
            "Downloading http://fashion-mnist.s3-website.eu-central-1.amazonaws.com/train-labels-idx1-ubyte.gz to data/FashionMNIST/raw/train-labels-idx1-ubyte.gz\n"
          ]
        },
        {
          "name": "stderr",
          "output_type": "stream",
          "text": [
            "100%|██████████| 29515/29515 [00:00<00:00, 190348.53it/s]\n"
          ]
        },
        {
          "name": "stdout",
          "output_type": "stream",
          "text": [
            "Extracting data/FashionMNIST/raw/train-labels-idx1-ubyte.gz to data/FashionMNIST/raw\n",
            "\n",
            "Downloading http://fashion-mnist.s3-website.eu-central-1.amazonaws.com/t10k-images-idx3-ubyte.gz\n",
            "Downloading http://fashion-mnist.s3-website.eu-central-1.amazonaws.com/t10k-images-idx3-ubyte.gz to data/FashionMNIST/raw/t10k-images-idx3-ubyte.gz\n"
          ]
        },
        {
          "name": "stderr",
          "output_type": "stream",
          "text": [
            "100%|██████████| 4422102/4422102 [00:01<00:00, 3737564.24it/s]\n"
          ]
        },
        {
          "name": "stdout",
          "output_type": "stream",
          "text": [
            "Extracting data/FashionMNIST/raw/t10k-images-idx3-ubyte.gz to data/FashionMNIST/raw\n",
            "\n",
            "Downloading http://fashion-mnist.s3-website.eu-central-1.amazonaws.com/t10k-labels-idx1-ubyte.gz\n",
            "Downloading http://fashion-mnist.s3-website.eu-central-1.amazonaws.com/t10k-labels-idx1-ubyte.gz to data/FashionMNIST/raw/t10k-labels-idx1-ubyte.gz\n"
          ]
        },
        {
          "name": "stderr",
          "output_type": "stream",
          "text": [
            "100%|██████████| 5148/5148 [00:00<00:00, 19845842.82it/s]"
          ]
        },
        {
          "name": "stdout",
          "output_type": "stream",
          "text": [
            "Extracting data/FashionMNIST/raw/t10k-labels-idx1-ubyte.gz to data/FashionMNIST/raw\n",
            "\n"
          ]
        },
        {
          "name": "stderr",
          "output_type": "stream",
          "text": [
            "\n"
          ]
        }
      ],
      "source": [
        "import torch\n",
        "from torch.utils.data import Dataset\n",
        "from torchvision import datasets\n",
        "from torchvision.transforms import ToTensor\n",
        "import matplotlib.pyplot as plt\n",
        "import torchvision.transforms as transforms\n",
        "\n",
        "# Define transform\n",
        "transform = transforms.Compose([\n",
        "    transforms.Resize((32, 32)),\n",
        "    transforms.ToTensor(),\n",
        "])\n",
        "\n",
        "# Download FashionMNIST Dataset \n",
        "training_data = datasets.FashionMNIST(\n",
        "    root=\"data\",\n",
        "    download=True,\n",
        "    transform=transform\n",
        ")\n",
        "\n",
        "\n"
      ]
    },
    {
      "cell_type": "code",
      "execution_count": 2,
      "metadata": {
        "id": "bTAidKSq_mY2"
      },
      "outputs": [],
      "source": [
        "import torch.nn as nn\n",
        "import torch.nn.functional as f\n",
        "import numpy as np\n",
        "from torch.distributions.normal import Normal\n",
        "\n",
        "def reparameterize(mu, log_var):\n",
        "    # Compute the standard deviation from the log variance\n",
        "    std = torch.exp(0.5 * log_var)\n",
        "    # Generate random noise using the same shape as std\n",
        "    eps = torch.randn_like(std)\n",
        "    # Return the reparameterized sample\n",
        "    return mu + eps * std\n",
        "\n",
        "class VAE(nn.Module):\n",
        "    def __init__(self):\n",
        "      super().__init__()\n",
        "      # Set the number of hidden units\n",
        "      self.num_hidden=2\n",
        "      self.conv1 = nn.Conv2d(1, 32, 3, stride=2, padding=1)\n",
        "      self.conv2 = nn.Conv2d(32, 64, 3, stride=2, padding=1)\n",
        "      self.conv3 = nn.Conv2d(64, 128, 3, stride=2,padding=1)\n",
        "\n",
        "      self.flatten = nn.Flatten(start_dim = 1 )\n",
        "\n",
        "      self.convT1 = nn.ConvTranspose2d(128, 64, 3, stride=2, output_padding=1, padding=1)\n",
        "      self.convT2 = nn.ConvTranspose2d(64, 32, 3, stride=2, output_padding=1, padding=1)\n",
        "      self.convT3 = nn.ConvTranspose2d(32, 1, 3, stride=2 , output_padding=1, padding=1)\n",
        "\n",
        "      self.mu = nn.Linear(128 * 4 * 4 , self.num_hidden)\n",
        "      self.log_var = nn.Linear(128 * 4 * 4 , self.num_hidden)\n",
        "\n",
        "      self.shape_before_flattening = (128, 4, 4)\n",
        "      self.fc = nn.Linear(self.num_hidden,np.prod(self.shape_before_flattening))\n",
        "      self.reshape = lambda x: x.view(-1, *self.shape_before_flattening)\n",
        "\n",
        "    def encoder(self,x):\n",
        "      x = f.relu(self.conv1(x))\n",
        "      x = f.relu(self.conv2(x))\n",
        "      x = f.relu(self.conv3(x))\n",
        "      x = self.flatten(x)\n",
        "      z_mean = self.mu(x)\n",
        "      z_logvar = self.log_var(x)\n",
        "\n",
        "      return z_mean, z_logvar\n",
        "\n",
        "    def decoder(self,z):\n",
        "\n",
        "      x = self.fc(z)\n",
        "      x = self.reshape(x)\n",
        "      x = f.relu(self.convT1(x))\n",
        "      x = f.relu(self.convT2(x))\n",
        "      x = torch.sigmoid(self.convT3(x))\n",
        "      return x\n",
        "\n",
        "    def forward(self, x):\n",
        "        # Pass the input through the encoder\n",
        "        mu, log_var = self.encoder(x)\n",
        "\n",
        "        # Reparameterize the latent variable\n",
        "        z = reparameterize(mu, log_var)\n",
        "\n",
        "        # Pass the latent variable through the decoder\n",
        "        decoded = self.decoder(z)\n",
        "\n",
        "        # Return the encoded output, decoded output, mean, and log variance\n",
        "        return mu, log_var, decoded\n",
        "\n",
        "    def sample(self, num_samples):\n",
        "        with torch.no_grad():\n",
        "            # Generate random noise\n",
        "            z = torch.randn(num_samples, self.num_hidden)\n",
        "            # Pass the noise through the decoder to generate samples\n",
        "            samples = self.decoder(z)\n",
        "        # Return the generated samples\n",
        "        return samples\n"
      ]
    },
    {
      "cell_type": "code",
      "execution_count": 3,
      "metadata": {
        "id": "O4cM5aQj_tfY"
      },
      "outputs": [],
      "source": [
        "\n",
        "# Loss Function\n",
        "def loss_function(recon_x, x, mu, logvar):\n",
        "\n",
        "    # Compute the binary cross-entropy loss between the reconstructed output and the input data\n",
        "    BCE = nn.BCELoss()\n",
        "    BCE_LOSS = BCE(recon_x, x)\n",
        "\n",
        "\n",
        "    # Compute the Kullback-Leibler divergence between the learned latent variable distribution and a standard Gaussian distribution\n",
        "    KLD = -0.5 * torch.sum(1 + logvar - mu.pow(2) - logvar.exp())\n",
        "\n",
        "    # Combine the two losses by adding them together and return the result\n",
        "    return  BCE_LOSS + 0.001*KLD, BCE_LOSS, KLD\n"
      ]
    },
    {
      "cell_type": "code",
      "execution_count": 10,
      "metadata": {
        "id": "zWzkIih-_wPg"
      },
      "outputs": [],
      "source": [
        "from google.colab import files\n",
        "\n",
        "def train_vae(X_train, learning_rate=1e-3, num_epochs=20, batch_size=1):\n",
        "\n",
        "    # Create the autoencoder model and optimizer\n",
        "    model = VAE()\n",
        "    optimizer = torch.optim.Adam(model.parameters(), lr=learning_rate)\n",
        "    random_sampler = torch.utils.data.RandomSampler(X_train, num_samples=10000)\n",
        "    # Create a DataLoader to handle batching of the training data\n",
        "    train_loader = torch.utils.data.DataLoader(\n",
        "        X_train, batch_size=batch_size, sampler=random_sampler\n",
        "    )\n",
        "    scheduler = torch.optim.lr_scheduler.ReduceLROnPlateau(\n",
        "    optimizer, mode=\"min\", factor=0.1, patience=2, verbose=True)\n",
        "\n",
        "    model.train()\n",
        "\n",
        "    # Training loop\n",
        "    for epoch in range(num_epochs):\n",
        "        total_loss = 0.0\n",
        "        best_val_loss = float('inf')\n",
        "        \n",
        "        for data, label in train_loader:\n",
        "\n",
        "            # Forward pass\n",
        "            mu, log_var, decoded = model(data)\n",
        "\n",
        "            # Compute the loss and perform backpropagation\n",
        "            loss, recons, latent = loss_function(decoded, data, mu, log_var)\n",
        "\n",
        "            optimizer.zero_grad()\n",
        "            loss.backward()\n",
        "            optimizer.step()\n",
        "\n",
        "            # Update the running loss\n",
        "            total_loss += loss.item() * data.size(0)\n",
        "\n",
        "        # Print the epoch loss\n",
        "        epoch_loss = total_loss / len(train_loader.dataset)\n",
        "        print(\n",
        "            \"Epoch {}/{}: loss={:.4f} recon_loss={:.4f} latent_loss={:.4f}\".format(epoch + 1, num_epochs, epoch_loss, recons, latent)\n",
        "        )\n",
        "        scheduler.step(epoch_loss)\n",
        "\n",
        "        # save best vae model weights based on validation loss\n",
        "        if epoch_loss < best_val_loss:\n",
        "            best_val_loss = epoch_loss\n",
        "            torch.save({\"vae\": model.state_dict()},'checkpoint.pth',)\n",
        "\n",
        "\n",
        "    # download checkpoint file\n",
        "    files.download('checkpoint.pth')\n",
        "    # Return the trained model\n",
        "    return model"
      ]
    },
    {
      "cell_type": "code",
      "execution_count": 11,
      "metadata": {
        "colab": {
          "base_uri": "https://localhost:8080/",
          "height": 382
        },
        "id": "eU9YiFUQ_yef",
        "outputId": "95fbc78d-db09-4d83-b3e4-d4941d3decbc"
      },
      "outputs": [
        {
          "name": "stdout",
          "output_type": "stream",
          "text": [
            "Epoch 1/20: loss=0.0622 recon_loss=0.3127 latent_loss=7.5877\n",
            "Epoch 2/20: loss=0.0597 recon_loss=0.2781 latent_loss=7.7146\n",
            "Epoch 3/20: loss=0.0590 recon_loss=0.3088 latent_loss=5.8631\n",
            "Epoch 4/20: loss=0.0586 recon_loss=0.2044 latent_loss=5.4849\n",
            "Epoch 5/20: loss=0.0584 recon_loss=0.4799 latent_loss=5.1622\n",
            "Epoch 6/20: loss=0.0583 recon_loss=0.2804 latent_loss=5.8265\n",
            "Epoch 7/20: loss=0.0580 recon_loss=0.4957 latent_loss=5.1930\n",
            "Epoch 8/20: loss=0.0581 recon_loss=0.2479 latent_loss=6.4172\n",
            "Epoch 9/20: loss=0.0579 recon_loss=0.3785 latent_loss=5.0182\n",
            "Epoch 10/20: loss=0.0580 recon_loss=0.2009 latent_loss=7.2608\n",
            "Epoch 11/20: loss=0.0577 recon_loss=0.5916 latent_loss=5.7310\n",
            "Epoch 12/20: loss=0.0577 recon_loss=0.3840 latent_loss=7.0802\n",
            "Epoch 13/20: loss=0.0582 recon_loss=0.4964 latent_loss=5.1849\n",
            "Epoch 14/20: loss=0.0579 recon_loss=0.3417 latent_loss=5.7383\n",
            "Epoch 00014: reducing learning rate of group 0 to 1.0000e-04.\n",
            "Epoch 15/20: loss=0.0570 recon_loss=0.3149 latent_loss=7.4262\n",
            "Epoch 16/20: loss=0.0567 recon_loss=0.3096 latent_loss=5.6272\n",
            "Epoch 17/20: loss=0.0569 recon_loss=0.1915 latent_loss=6.0876\n",
            "Epoch 18/20: loss=0.0572 recon_loss=0.2503 latent_loss=6.4905\n",
            "Epoch 19/20: loss=0.0566 recon_loss=0.5496 latent_loss=5.7593\n",
            "Epoch 20/20: loss=0.0567 recon_loss=0.3361 latent_loss=7.1772\n"
          ]
        },
        {
          "data": {
            "application/javascript": "\n    async function download(id, filename, size) {\n      if (!google.colab.kernel.accessAllowed) {\n        return;\n      }\n      const div = document.createElement('div');\n      const label = document.createElement('label');\n      label.textContent = `Downloading \"${filename}\": `;\n      div.appendChild(label);\n      const progress = document.createElement('progress');\n      progress.max = size;\n      div.appendChild(progress);\n      document.body.appendChild(div);\n\n      const buffers = [];\n      let downloaded = 0;\n\n      const channel = await google.colab.kernel.comms.open(id);\n      // Send a message to notify the kernel that we're ready.\n      channel.send({})\n\n      for await (const message of channel.messages) {\n        // Send a message to notify the kernel that we're ready.\n        channel.send({})\n        if (message.buffers) {\n          for (const buffer of message.buffers) {\n            buffers.push(buffer);\n            downloaded += buffer.byteLength;\n            progress.value = downloaded;\n          }\n        }\n      }\n      const blob = new Blob(buffers, {type: 'application/binary'});\n      const a = document.createElement('a');\n      a.href = window.URL.createObjectURL(blob);\n      a.download = filename;\n      div.appendChild(a);\n      a.click();\n      div.remove();\n    }\n  ",
            "text/plain": [
              "<IPython.core.display.Javascript object>"
            ]
          },
          "metadata": {},
          "output_type": "display_data"
        },
        {
          "data": {
            "application/javascript": "download(\"download_3bd36ead-82c7-43cb-adef-cda857411521\", \"checkpoint.pth\", 804194)",
            "text/plain": [
              "<IPython.core.display.Javascript object>"
            ]
          },
          "metadata": {},
          "output_type": "display_data"
        }
      ],
      "source": [
        "# Train the model\n",
        "trained_model = train_vae(training_data)\n"
      ]
    },
    {
      "cell_type": "code",
      "execution_count": 12,
      "metadata": {
        "colab": {
          "base_uri": "https://localhost:8080/",
          "height": 679
        },
        "id": "7aP2CoyF_1B5",
        "outputId": "c33a34b4-8ad8-46ec-dbbc-9bb33df6bbf0"
      },
      "outputs": [
        {
          "data": {
            "image/png": "[encoded data removed]",
            "text/plain": [
              "<Figure size 800x800 with 9 Axes>"
            ]
          },
          "metadata": {},
          "output_type": "display_data"
        }
      ],
      "source": [
        "# Sampling from the learned model\n",
        "\n",
        "inference_model = VAE()\n",
        "state_dict = torch.load('checkpoint.pth')\n",
        "inference_model.load_state_dict(state_dict['vae'])\n",
        "\n",
        "figure = plt.figure(figsize=(8, 8))\n",
        "cols, rows = 3, 3\n",
        "\n",
        "for i in range(1, cols * rows + 1):\n",
        "  img = inference_model.sample(1).detach().numpy()\n",
        "  figure.add_subplot(rows, cols, i)\n",
        "  plt.imshow(img.squeeze(), cmap=\"gray\")\n",
        "\n",
        "plt.show()"
      ]
    }
  ],
  "metadata": {
    "accelerator": "GPU",
    "colab": {
      "gpuType": "T4",
      "provenance": []
    },
    "kernelspec": {
      "display_name": "Python 3",
      "name": "python3"
    },
    "language_info": {
      "name": "python"
    }
  },
  "nbformat": 4,
  "nbformat_minor": 0
}
